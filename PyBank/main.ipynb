{
 "cells": [
  {
   "cell_type": "code",
   "execution_count": 4,
   "id": "fed9573c",
   "metadata": {},
   "outputs": [],
   "source": [
    "import pandas as pd\n",
    "\n",
    "budget_data = pd.read_csv('budget_data.csv')"
   ]
  },
  {
   "cell_type": "code",
   "execution_count": 5,
   "id": "14e59d69",
   "metadata": {},
   "outputs": [],
   "source": [
    "total_months = 0\n",
    "total_profit_losses = 0\n",
    "previous_profit_loss = 0\n",
    "changes = []\n",
    "greatest_increase_date = \"\"\n",
    "greatest_increase_amount = 0\n",
    "greatest_decrease_date = \"\"\n",
    "greatest_decrease_amount = 0"
   ]
  },
  {
   "cell_type": "code",
   "execution_count": 6,
   "id": "7e86bb5f",
   "metadata": {},
   "outputs": [],
   "source": [
    "# Read in the financial data from the CSV file\n",
    "with open('budget_data.csv', 'r') as csvfile:\n",
    "    csvreader = csv.reader(csvfile, delimiter=',')\n",
    "    # Skip the header row\n",
    "    next(csvreader)\n",
    "    # Loop over each row in the CSV file\n",
    "    for row in csvreader:\n",
    "        # Increment the total number of months\n",
    "        total_months += 1\n",
    "        # Add the current Profit/Losses value to the total\n",
    "        total_profit_losses += int(row[1])\n",
    "        # If this is not the first month, calculate the change in Profit/Losses\n",
    "        if total_months > 1:\n",
    "            change = int(row[1]) - previous_profit_loss\n",
    "            # Add the change to the list of changes\n",
    "            changes.append(change)\n",
    "            # Check if this is the greatest increase or decrease in profits so far\n",
    "            if change > greatest_increase_amount:\n",
    "                greatest_increase_amount = change\n",
    "                greatest_increase_date = row[0]\n",
    "            elif change < greatest_decrease_amount:\n",
    "                greatest_decrease_amount = change\n",
    "                greatest_decrease_date = row[0]\n",
    "        # Set the previous Profit/Losses value to the current value for the next iteration\n",
    "        previous_profit_loss = int(row[1])\n"
   ]
  },
  {
   "cell_type": "code",
   "execution_count": 7,
   "id": "fb7c6788",
   "metadata": {},
   "outputs": [],
   "source": [
    "# Calculate the average change in Profit/Losses\n",
    "average_change = sum(changes) / len(changes)"
   ]
  },
  {
   "cell_type": "code",
   "execution_count": 8,
   "id": "feb76f6e",
   "metadata": {
    "scrolled": true
   },
   "outputs": [
    {
     "name": "stdout",
     "output_type": "stream",
     "text": [
      "Financial Analysis\n",
      "------------------\n",
      "Total Months: 86\n",
      "Total: $38382578\n",
      "Average Change: $-2315.12\n",
      "Greatest Increase in Profits: Feb-2012 ($1926159)\n",
      "Greatest Decrease in Profits: Sep-2013 ($-2196167)\n"
     ]
    }
   ],
   "source": [
    "# Print the results\n",
    "print(\"Financial Analysis\")\n",
    "print(\"------------------\")\n",
    "print(f\"Total Months: {total_months}\")\n",
    "print(f\"Total: ${total_profit_losses}\")\n",
    "print(f\"Average Change: ${average_change:.2f}\")\n",
    "print(f\"Greatest Increase in Profits: {greatest_increase_date} (${greatest_increase_amount})\")\n",
    "print(f\"Greatest Decrease in Profits: {greatest_decrease_date} (${greatest_decrease_amount})\")"
   ]
  },
  {
   "cell_type": "code",
   "execution_count": null,
   "id": "fa499f92",
   "metadata": {},
   "outputs": [],
   "source": []
  }
 ],
 "metadata": {
  "kernelspec": {
   "display_name": "Python 3 (ipykernel)",
   "language": "python",
   "name": "python3"
  },
  "language_info": {
   "codemirror_mode": {
    "name": "ipython",
    "version": 3
   },
   "file_extension": ".py",
   "mimetype": "text/x-python",
   "name": "python",
   "nbconvert_exporter": "python",
   "pygments_lexer": "ipython3",
   "version": "3.9.13"
  }
 },
 "nbformat": 4,
 "nbformat_minor": 5
}
